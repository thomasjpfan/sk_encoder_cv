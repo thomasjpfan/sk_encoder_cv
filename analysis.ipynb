{
 "cells": [
  {
   "cell_type": "markdown",
   "metadata": {},
   "source": [
    "# Analysis Results"
   ]
  },
  {
   "cell_type": "code",
   "execution_count": 8,
   "metadata": {},
   "outputs": [],
   "source": [
    "import numpy as np\n",
    "import pandas as pd\n",
    "import matplotlib.pyplot as plt\n",
    "\n",
    "plt.rcParams['font.size'] = 16\n",
    "plt.rcParams['figure.figsize'] = [12, 8]\n",
    "plt.rcParams['lines.linewidth'] = 2.5\n",
    "\n",
    "pd.set_option(\"display.max_rows\", 20)\n",
    "pd.set_option(\"display.max_columns\", 20)"
   ]
  },
  {
   "cell_type": "code",
   "execution_count": 9,
   "metadata": {},
   "outputs": [],
   "source": [
    "from pathlib import Path\n",
    "import pandas as pd"
   ]
  },
  {
   "cell_type": "code",
   "execution_count": 26,
   "metadata": {},
   "outputs": [],
   "source": [
    "results_dir = Path(\"results\")\n",
    "results_paths = results_dir.glob(\"*.csv\")\n",
    "\n",
    "results = []\n",
    "for path in results_paths:\n",
    "    results.append(pd.read_csv(path))\n",
    "results_df = pd.concat(results, axis=0)"
   ]
  },
  {
   "cell_type": "code",
   "execution_count": 27,
   "metadata": {},
   "outputs": [
    {
     "data": {
      "text/html": [
       "<div>\n",
       "<style scoped>\n",
       "    .dataframe tbody tr th:only-of-type {\n",
       "        vertical-align: middle;\n",
       "    }\n",
       "\n",
       "    .dataframe tbody tr th {\n",
       "        vertical-align: top;\n",
       "    }\n",
       "\n",
       "    .dataframe thead th {\n",
       "        text-align: right;\n",
       "    }\n",
       "</style>\n",
       "<table border=\"1\" class=\"dataframe\">\n",
       "  <thead>\n",
       "    <tr style=\"text-align: right;\">\n",
       "      <th></th>\n",
       "      <th>fit_time_mean</th>\n",
       "      <th>fit_time_std</th>\n",
       "      <th>score_time_mean</th>\n",
       "      <th>score_time_std</th>\n",
       "      <th>test_accuracy_mean</th>\n",
       "      <th>test_accuracy_std</th>\n",
       "      <th>test_roc_auc_mean</th>\n",
       "      <th>test_roc_auc_std</th>\n",
       "      <th>test_average_precision_mean</th>\n",
       "      <th>test_average_precision_std</th>\n",
       "      <th>...</th>\n",
       "      <th>n_samples</th>\n",
       "      <th>n_features</th>\n",
       "      <th>categorical features</th>\n",
       "      <th>openml_url</th>\n",
       "      <th>test_r2_mean</th>\n",
       "      <th>test_r2_std</th>\n",
       "      <th>test_neg_mean_squared_error_mean</th>\n",
       "      <th>test_neg_mean_squared_error_std</th>\n",
       "      <th>test_neg_median_absolute_error_mean</th>\n",
       "      <th>test_neg_median_absolute_error_std</th>\n",
       "    </tr>\n",
       "  </thead>\n",
       "  <tbody>\n",
       "    <tr>\n",
       "      <th>0</th>\n",
       "      <td>0.264631</td>\n",
       "      <td>0.032911</td>\n",
       "      <td>0.051381</td>\n",
       "      <td>0.004987</td>\n",
       "      <td>0.778367</td>\n",
       "      <td>0.001126</td>\n",
       "      <td>0.716866</td>\n",
       "      <td>0.000302</td>\n",
       "      <td>0.467340</td>\n",
       "      <td>0.003228</td>\n",
       "      <td>...</td>\n",
       "      <td>48842</td>\n",
       "      <td>14</td>\n",
       "      <td>12</td>\n",
       "      <td>https://www.openml.org/d/179</td>\n",
       "      <td>NaN</td>\n",
       "      <td>NaN</td>\n",
       "      <td>NaN</td>\n",
       "      <td>NaN</td>\n",
       "      <td>NaN</td>\n",
       "      <td>NaN</td>\n",
       "    </tr>\n",
       "    <tr>\n",
       "      <th>1</th>\n",
       "      <td>0.821126</td>\n",
       "      <td>0.080079</td>\n",
       "      <td>0.387473</td>\n",
       "      <td>0.002899</td>\n",
       "      <td>0.857193</td>\n",
       "      <td>0.000020</td>\n",
       "      <td>0.911777</td>\n",
       "      <td>0.000498</td>\n",
       "      <td>0.782722</td>\n",
       "      <td>0.001596</td>\n",
       "      <td>...</td>\n",
       "      <td>48842</td>\n",
       "      <td>14</td>\n",
       "      <td>12</td>\n",
       "      <td>https://www.openml.org/d/179</td>\n",
       "      <td>NaN</td>\n",
       "      <td>NaN</td>\n",
       "      <td>NaN</td>\n",
       "      <td>NaN</td>\n",
       "      <td>NaN</td>\n",
       "      <td>NaN</td>\n",
       "    </tr>\n",
       "    <tr>\n",
       "      <th>0</th>\n",
       "      <td>1.248967</td>\n",
       "      <td>0.036415</td>\n",
       "      <td>0.473417</td>\n",
       "      <td>0.004594</td>\n",
       "      <td>0.945284</td>\n",
       "      <td>0.001009</td>\n",
       "      <td>0.772281</td>\n",
       "      <td>0.007579</td>\n",
       "      <td>0.974660</td>\n",
       "      <td>0.001469</td>\n",
       "      <td>...</td>\n",
       "      <td>32769</td>\n",
       "      <td>9</td>\n",
       "      <td>9</td>\n",
       "      <td>https://www.openml.org/d/4135</td>\n",
       "      <td>NaN</td>\n",
       "      <td>NaN</td>\n",
       "      <td>NaN</td>\n",
       "      <td>NaN</td>\n",
       "      <td>NaN</td>\n",
       "      <td>NaN</td>\n",
       "    </tr>\n",
       "    <tr>\n",
       "      <th>0</th>\n",
       "      <td>1.125724</td>\n",
       "      <td>0.182214</td>\n",
       "      <td>0.130300</td>\n",
       "      <td>0.012094</td>\n",
       "      <td>0.877012</td>\n",
       "      <td>0.000026</td>\n",
       "      <td>0.676059</td>\n",
       "      <td>0.003735</td>\n",
       "      <td>0.233742</td>\n",
       "      <td>0.005311</td>\n",
       "      <td>...</td>\n",
       "      <td>72983</td>\n",
       "      <td>32</td>\n",
       "      <td>18</td>\n",
       "      <td>https://www.openml.org/d/41162</td>\n",
       "      <td>NaN</td>\n",
       "      <td>NaN</td>\n",
       "      <td>NaN</td>\n",
       "      <td>NaN</td>\n",
       "      <td>NaN</td>\n",
       "      <td>NaN</td>\n",
       "    </tr>\n",
       "    <tr>\n",
       "      <th>1</th>\n",
       "      <td>1.671590</td>\n",
       "      <td>0.125104</td>\n",
       "      <td>0.893983</td>\n",
       "      <td>0.033006</td>\n",
       "      <td>0.889426</td>\n",
       "      <td>0.004383</td>\n",
       "      <td>0.734130</td>\n",
       "      <td>0.019973</td>\n",
       "      <td>0.422459</td>\n",
       "      <td>0.037359</td>\n",
       "      <td>...</td>\n",
       "      <td>72983</td>\n",
       "      <td>32</td>\n",
       "      <td>18</td>\n",
       "      <td>https://www.openml.org/d/41162</td>\n",
       "      <td>NaN</td>\n",
       "      <td>NaN</td>\n",
       "      <td>NaN</td>\n",
       "      <td>NaN</td>\n",
       "      <td>NaN</td>\n",
       "      <td>NaN</td>\n",
       "    </tr>\n",
       "    <tr>\n",
       "      <th>0</th>\n",
       "      <td>0.242164</td>\n",
       "      <td>0.194449</td>\n",
       "      <td>0.015169</td>\n",
       "      <td>0.006966</td>\n",
       "      <td>0.568000</td>\n",
       "      <td>0.012000</td>\n",
       "      <td>0.479819</td>\n",
       "      <td>0.000772</td>\n",
       "      <td>0.412552</td>\n",
       "      <td>0.007422</td>\n",
       "      <td>...</td>\n",
       "      <td>500</td>\n",
       "      <td>12</td>\n",
       "      <td>11</td>\n",
       "      <td>https://www.openml.org/d/23381</td>\n",
       "      <td>NaN</td>\n",
       "      <td>NaN</td>\n",
       "      <td>NaN</td>\n",
       "      <td>NaN</td>\n",
       "      <td>NaN</td>\n",
       "      <td>NaN</td>\n",
       "    </tr>\n",
       "    <tr>\n",
       "      <th>1</th>\n",
       "      <td>0.064229</td>\n",
       "      <td>0.009302</td>\n",
       "      <td>0.031379</td>\n",
       "      <td>0.000052</td>\n",
       "      <td>0.550000</td>\n",
       "      <td>0.010000</td>\n",
       "      <td>0.533645</td>\n",
       "      <td>0.025501</td>\n",
       "      <td>0.466223</td>\n",
       "      <td>0.030705</td>\n",
       "      <td>...</td>\n",
       "      <td>500</td>\n",
       "      <td>12</td>\n",
       "      <td>11</td>\n",
       "      <td>https://www.openml.org/d/23381</td>\n",
       "      <td>NaN</td>\n",
       "      <td>NaN</td>\n",
       "      <td>NaN</td>\n",
       "      <td>NaN</td>\n",
       "      <td>NaN</td>\n",
       "      <td>NaN</td>\n",
       "    </tr>\n",
       "    <tr>\n",
       "      <th>0</th>\n",
       "      <td>0.226937</td>\n",
       "      <td>0.058576</td>\n",
       "      <td>0.017043</td>\n",
       "      <td>0.002542</td>\n",
       "      <td>0.783615</td>\n",
       "      <td>0.002870</td>\n",
       "      <td>0.809995</td>\n",
       "      <td>0.008478</td>\n",
       "      <td>0.606127</td>\n",
       "      <td>0.006554</td>\n",
       "      <td>...</td>\n",
       "      <td>7043</td>\n",
       "      <td>19</td>\n",
       "      <td>16</td>\n",
       "      <td>https://www.openml.org/d/42178</td>\n",
       "      <td>NaN</td>\n",
       "      <td>NaN</td>\n",
       "      <td>NaN</td>\n",
       "      <td>NaN</td>\n",
       "      <td>NaN</td>\n",
       "      <td>NaN</td>\n",
       "    </tr>\n",
       "    <tr>\n",
       "      <th>1</th>\n",
       "      <td>0.357325</td>\n",
       "      <td>0.006057</td>\n",
       "      <td>0.113479</td>\n",
       "      <td>0.000305</td>\n",
       "      <td>0.799375</td>\n",
       "      <td>0.000738</td>\n",
       "      <td>0.836782</td>\n",
       "      <td>0.006844</td>\n",
       "      <td>0.634787</td>\n",
       "      <td>0.004755</td>\n",
       "      <td>...</td>\n",
       "      <td>7043</td>\n",
       "      <td>19</td>\n",
       "      <td>16</td>\n",
       "      <td>https://www.openml.org/d/42178</td>\n",
       "      <td>NaN</td>\n",
       "      <td>NaN</td>\n",
       "      <td>NaN</td>\n",
       "      <td>NaN</td>\n",
       "      <td>NaN</td>\n",
       "      <td>NaN</td>\n",
       "    </tr>\n",
       "    <tr>\n",
       "      <th>0</th>\n",
       "      <td>1.077735</td>\n",
       "      <td>0.084755</td>\n",
       "      <td>0.248449</td>\n",
       "      <td>0.005488</td>\n",
       "      <td>0.914518</td>\n",
       "      <td>0.000641</td>\n",
       "      <td>0.972434</td>\n",
       "      <td>0.005137</td>\n",
       "      <td>0.975140</td>\n",
       "      <td>0.005450</td>\n",
       "      <td>...</td>\n",
       "      <td>11055</td>\n",
       "      <td>30</td>\n",
       "      <td>30</td>\n",
       "      <td>https://www.openml.org/d/4534</td>\n",
       "      <td>NaN</td>\n",
       "      <td>NaN</td>\n",
       "      <td>NaN</td>\n",
       "      <td>NaN</td>\n",
       "      <td>NaN</td>\n",
       "      <td>NaN</td>\n",
       "    </tr>\n",
       "    <tr>\n",
       "      <th>0</th>\n",
       "      <td>2.962007</td>\n",
       "      <td>0.009696</td>\n",
       "      <td>0.445634</td>\n",
       "      <td>0.009606</td>\n",
       "      <td>NaN</td>\n",
       "      <td>NaN</td>\n",
       "      <td>NaN</td>\n",
       "      <td>NaN</td>\n",
       "      <td>NaN</td>\n",
       "      <td>NaN</td>\n",
       "      <td>...</td>\n",
       "      <td>581835</td>\n",
       "      <td>18</td>\n",
       "      <td>9</td>\n",
       "      <td>https://www.openml.org/d/42729</td>\n",
       "      <td>0.463928</td>\n",
       "      <td>0.008660</td>\n",
       "      <td>-3.949264e+00</td>\n",
       "      <td>1.586379e-01</td>\n",
       "      <td>-0.381007</td>\n",
       "      <td>0.017521</td>\n",
       "    </tr>\n",
       "    <tr>\n",
       "      <th>1</th>\n",
       "      <td>4.181829</td>\n",
       "      <td>0.463652</td>\n",
       "      <td>1.488309</td>\n",
       "      <td>0.069671</td>\n",
       "      <td>NaN</td>\n",
       "      <td>NaN</td>\n",
       "      <td>NaN</td>\n",
       "      <td>NaN</td>\n",
       "      <td>NaN</td>\n",
       "      <td>NaN</td>\n",
       "      <td>...</td>\n",
       "      <td>581835</td>\n",
       "      <td>18</td>\n",
       "      <td>9</td>\n",
       "      <td>https://www.openml.org/d/42729</td>\n",
       "      <td>0.475965</td>\n",
       "      <td>0.006366</td>\n",
       "      <td>-3.860215e+00</td>\n",
       "      <td>1.396111e-01</td>\n",
       "      <td>-0.404934</td>\n",
       "      <td>0.003136</td>\n",
       "    </tr>\n",
       "    <tr>\n",
       "      <th>0</th>\n",
       "      <td>0.255144</td>\n",
       "      <td>0.074154</td>\n",
       "      <td>0.005731</td>\n",
       "      <td>0.000528</td>\n",
       "      <td>NaN</td>\n",
       "      <td>NaN</td>\n",
       "      <td>NaN</td>\n",
       "      <td>NaN</td>\n",
       "      <td>NaN</td>\n",
       "      <td>NaN</td>\n",
       "      <td>...</td>\n",
       "      <td>1460</td>\n",
       "      <td>79</td>\n",
       "      <td>43</td>\n",
       "      <td>https://www.openml.org/d/42165</td>\n",
       "      <td>0.848303</td>\n",
       "      <td>0.020560</td>\n",
       "      <td>-9.478944e+08</td>\n",
       "      <td>6.991839e+07</td>\n",
       "      <td>-10834.692996</td>\n",
       "      <td>459.187126</td>\n",
       "    </tr>\n",
       "    <tr>\n",
       "      <th>1</th>\n",
       "      <td>0.506240</td>\n",
       "      <td>0.270561</td>\n",
       "      <td>0.030725</td>\n",
       "      <td>0.002613</td>\n",
       "      <td>NaN</td>\n",
       "      <td>NaN</td>\n",
       "      <td>NaN</td>\n",
       "      <td>NaN</td>\n",
       "      <td>NaN</td>\n",
       "      <td>NaN</td>\n",
       "      <td>...</td>\n",
       "      <td>1460</td>\n",
       "      <td>79</td>\n",
       "      <td>43</td>\n",
       "      <td>https://www.openml.org/d/42165</td>\n",
       "      <td>0.857322</td>\n",
       "      <td>0.012790</td>\n",
       "      <td>-8.941143e+08</td>\n",
       "      <td>2.449767e+07</td>\n",
       "      <td>-11315.561193</td>\n",
       "      <td>238.352368</td>\n",
       "    </tr>\n",
       "    <tr>\n",
       "      <th>0</th>\n",
       "      <td>0.316151</td>\n",
       "      <td>0.026531</td>\n",
       "      <td>0.016400</td>\n",
       "      <td>0.000289</td>\n",
       "      <td>0.895200</td>\n",
       "      <td>0.002400</td>\n",
       "      <td>0.732987</td>\n",
       "      <td>0.013847</td>\n",
       "      <td>0.522120</td>\n",
       "      <td>0.009278</td>\n",
       "      <td>...</td>\n",
       "      <td>5000</td>\n",
       "      <td>20</td>\n",
       "      <td>4</td>\n",
       "      <td>https://www.openml.org/d/40701</td>\n",
       "      <td>NaN</td>\n",
       "      <td>NaN</td>\n",
       "      <td>NaN</td>\n",
       "      <td>NaN</td>\n",
       "      <td>NaN</td>\n",
       "      <td>NaN</td>\n",
       "    </tr>\n",
       "    <tr>\n",
       "      <th>1</th>\n",
       "      <td>0.420583</td>\n",
       "      <td>0.004480</td>\n",
       "      <td>0.040360</td>\n",
       "      <td>0.001370</td>\n",
       "      <td>0.954600</td>\n",
       "      <td>0.000200</td>\n",
       "      <td>0.914236</td>\n",
       "      <td>0.008656</td>\n",
       "      <td>0.863330</td>\n",
       "      <td>0.004724</td>\n",
       "      <td>...</td>\n",
       "      <td>5000</td>\n",
       "      <td>20</td>\n",
       "      <td>4</td>\n",
       "      <td>https://www.openml.org/d/40701</td>\n",
       "      <td>NaN</td>\n",
       "      <td>NaN</td>\n",
       "      <td>NaN</td>\n",
       "      <td>NaN</td>\n",
       "      <td>NaN</td>\n",
       "      <td>NaN</td>\n",
       "    </tr>\n",
       "  </tbody>\n",
       "</table>\n",
       "<p>16 rows × 25 columns</p>\n",
       "</div>"
      ],
      "text/plain": [
       "   fit_time_mean  fit_time_std  score_time_mean  score_time_std  \\\n",
       "0       0.264631      0.032911         0.051381        0.004987   \n",
       "1       0.821126      0.080079         0.387473        0.002899   \n",
       "0       1.248967      0.036415         0.473417        0.004594   \n",
       "0       1.125724      0.182214         0.130300        0.012094   \n",
       "1       1.671590      0.125104         0.893983        0.033006   \n",
       "0       0.242164      0.194449         0.015169        0.006966   \n",
       "1       0.064229      0.009302         0.031379        0.000052   \n",
       "0       0.226937      0.058576         0.017043        0.002542   \n",
       "1       0.357325      0.006057         0.113479        0.000305   \n",
       "0       1.077735      0.084755         0.248449        0.005488   \n",
       "0       2.962007      0.009696         0.445634        0.009606   \n",
       "1       4.181829      0.463652         1.488309        0.069671   \n",
       "0       0.255144      0.074154         0.005731        0.000528   \n",
       "1       0.506240      0.270561         0.030725        0.002613   \n",
       "0       0.316151      0.026531         0.016400        0.000289   \n",
       "1       0.420583      0.004480         0.040360        0.001370   \n",
       "\n",
       "   test_accuracy_mean  test_accuracy_std  test_roc_auc_mean  test_roc_auc_std  \\\n",
       "0            0.778367           0.001126           0.716866          0.000302   \n",
       "1            0.857193           0.000020           0.911777          0.000498   \n",
       "0            0.945284           0.001009           0.772281          0.007579   \n",
       "0            0.877012           0.000026           0.676059          0.003735   \n",
       "1            0.889426           0.004383           0.734130          0.019973   \n",
       "0            0.568000           0.012000           0.479819          0.000772   \n",
       "1            0.550000           0.010000           0.533645          0.025501   \n",
       "0            0.783615           0.002870           0.809995          0.008478   \n",
       "1            0.799375           0.000738           0.836782          0.006844   \n",
       "0            0.914518           0.000641           0.972434          0.005137   \n",
       "0                 NaN                NaN                NaN               NaN   \n",
       "1                 NaN                NaN                NaN               NaN   \n",
       "0                 NaN                NaN                NaN               NaN   \n",
       "1                 NaN                NaN                NaN               NaN   \n",
       "0            0.895200           0.002400           0.732987          0.013847   \n",
       "1            0.954600           0.000200           0.914236          0.008656   \n",
       "\n",
       "   test_average_precision_mean  test_average_precision_std  ... n_samples  \\\n",
       "0                     0.467340                    0.003228  ...     48842   \n",
       "1                     0.782722                    0.001596  ...     48842   \n",
       "0                     0.974660                    0.001469  ...     32769   \n",
       "0                     0.233742                    0.005311  ...     72983   \n",
       "1                     0.422459                    0.037359  ...     72983   \n",
       "0                     0.412552                    0.007422  ...       500   \n",
       "1                     0.466223                    0.030705  ...       500   \n",
       "0                     0.606127                    0.006554  ...      7043   \n",
       "1                     0.634787                    0.004755  ...      7043   \n",
       "0                     0.975140                    0.005450  ...     11055   \n",
       "0                          NaN                         NaN  ...    581835   \n",
       "1                          NaN                         NaN  ...    581835   \n",
       "0                          NaN                         NaN  ...      1460   \n",
       "1                          NaN                         NaN  ...      1460   \n",
       "0                     0.522120                    0.009278  ...      5000   \n",
       "1                     0.863330                    0.004724  ...      5000   \n",
       "\n",
       "   n_features categorical features                      openml_url  \\\n",
       "0          14                   12    https://www.openml.org/d/179   \n",
       "1          14                   12    https://www.openml.org/d/179   \n",
       "0           9                    9   https://www.openml.org/d/4135   \n",
       "0          32                   18  https://www.openml.org/d/41162   \n",
       "1          32                   18  https://www.openml.org/d/41162   \n",
       "0          12                   11  https://www.openml.org/d/23381   \n",
       "1          12                   11  https://www.openml.org/d/23381   \n",
       "0          19                   16  https://www.openml.org/d/42178   \n",
       "1          19                   16  https://www.openml.org/d/42178   \n",
       "0          30                   30   https://www.openml.org/d/4534   \n",
       "0          18                    9  https://www.openml.org/d/42729   \n",
       "1          18                    9  https://www.openml.org/d/42729   \n",
       "0          79                   43  https://www.openml.org/d/42165   \n",
       "1          79                   43  https://www.openml.org/d/42165   \n",
       "0          20                    4  https://www.openml.org/d/40701   \n",
       "1          20                    4  https://www.openml.org/d/40701   \n",
       "\n",
       "   test_r2_mean  test_r2_std  test_neg_mean_squared_error_mean  \\\n",
       "0           NaN          NaN                               NaN   \n",
       "1           NaN          NaN                               NaN   \n",
       "0           NaN          NaN                               NaN   \n",
       "0           NaN          NaN                               NaN   \n",
       "1           NaN          NaN                               NaN   \n",
       "0           NaN          NaN                               NaN   \n",
       "1           NaN          NaN                               NaN   \n",
       "0           NaN          NaN                               NaN   \n",
       "1           NaN          NaN                               NaN   \n",
       "0           NaN          NaN                               NaN   \n",
       "0      0.463928     0.008660                     -3.949264e+00   \n",
       "1      0.475965     0.006366                     -3.860215e+00   \n",
       "0      0.848303     0.020560                     -9.478944e+08   \n",
       "1      0.857322     0.012790                     -8.941143e+08   \n",
       "0           NaN          NaN                               NaN   \n",
       "1           NaN          NaN                               NaN   \n",
       "\n",
       "   test_neg_mean_squared_error_std test_neg_median_absolute_error_mean  \\\n",
       "0                              NaN                                 NaN   \n",
       "1                              NaN                                 NaN   \n",
       "0                              NaN                                 NaN   \n",
       "0                              NaN                                 NaN   \n",
       "1                              NaN                                 NaN   \n",
       "0                              NaN                                 NaN   \n",
       "1                              NaN                                 NaN   \n",
       "0                              NaN                                 NaN   \n",
       "1                              NaN                                 NaN   \n",
       "0                              NaN                                 NaN   \n",
       "0                     1.586379e-01                           -0.381007   \n",
       "1                     1.396111e-01                           -0.404934   \n",
       "0                     6.991839e+07                       -10834.692996   \n",
       "1                     2.449767e+07                       -11315.561193   \n",
       "0                              NaN                                 NaN   \n",
       "1                              NaN                                 NaN   \n",
       "\n",
       "   test_neg_median_absolute_error_std  \n",
       "0                                 NaN  \n",
       "1                                 NaN  \n",
       "0                                 NaN  \n",
       "0                                 NaN  \n",
       "1                                 NaN  \n",
       "0                                 NaN  \n",
       "1                                 NaN  \n",
       "0                                 NaN  \n",
       "1                                 NaN  \n",
       "0                                 NaN  \n",
       "0                            0.017521  \n",
       "1                            0.003136  \n",
       "0                          459.187126  \n",
       "1                          238.352368  \n",
       "0                                 NaN  \n",
       "1                                 NaN  \n",
       "\n",
       "[16 rows x 25 columns]"
      ]
     },
     "execution_count": 27,
     "metadata": {},
     "output_type": "execute_result"
    }
   ],
   "source": [
    "results_df"
   ]
  },
  {
   "cell_type": "code",
   "execution_count": 12,
   "metadata": {},
   "outputs": [],
   "source": [
    "data_names = results_df[\"data_name\"].unique()"
   ]
  },
  {
   "cell_type": "code",
   "execution_count": 22,
   "metadata": {},
   "outputs": [],
   "source": [
    "def plot_metric_for_name(data_name, metric_name, ax=None, remove_drop=False):\n",
    "    if ax is None:\n",
    "        fig, ax = plt.subplots()\n",
    "    results_data_name = results_df[results_df[\"data_name\"] == data_name]\n",
    "\n",
    "    info_first = results_data_name.iloc[0]\n",
    "    data_name = info_first['data_name']\n",
    "    results_data_name_sorted = results_data_name.sort_values(f\"test_{metric_name}_mean\")\n",
    "    null_encoders = ~results_data_name_sorted[f\"test_{metric_name}_mean\"].isna()\n",
    "    if remove_drop:\n",
    "        null_encoders &= (results_data_name_sorted[\"encoder\"] != \"drop\")\n",
    "    y_values = np.arange(np.sum(null_encoders))\n",
    "        \n",
    "    ax.errorbar(results_data_name_sorted.loc[null_encoders, f\"test_{metric_name}_mean\"],\n",
    "                y_values,\n",
    "                xerr=results_data_name_sorted.loc[null_encoders, f\"test_{metric_name}_std\"],\n",
    "                ls='', marker='o')\n",
    "    ax.set_yticks(y_values)\n",
    "    ax.set_yticklabels(results_data_name_sorted.loc[null_encoders, \"encoder\"])\n",
    "    ax.set_title(f\"{data_name}: {metric_name}\")"
   ]
  },
  {
   "cell_type": "code",
   "execution_count": 23,
   "metadata": {},
   "outputs": [],
   "source": [
    "def plot_all_metrics(data_name, remove_drop=False):\n",
    "    results_data_name = results_df[results_df[\"data_name\"] == data_name]\n",
    "    info_first = results_data_name.iloc[0]\n",
    "    \n",
    "    non_null_names = info_first.notnull()\n",
    "    test_names = info_first.index.str.startswith(\"test\")\n",
    "    score_names = info_first.index[non_null_names & test_names]\n",
    "    score_means_names = score_names[score_names.str.endswith(\"_mean\")]\n",
    "    \n",
    "    metric_names = [name[5:-5] for name in score_means_names]\n",
    "    \n",
    "    fig, axes = plt.subplots(1, len(metric_names), figsize=(20, 6), constrained_layout=True)\n",
    "\n",
    "    for metric_name, ax in zip(metric_names, axes.flatten()):\n",
    "        plot_metric_for_name(data_name, metric_name, ax=ax, remove_drop=remove_drop)\n",
    "        \n",
    "    return fig"
   ]
  },
  {
   "cell_type": "code",
   "execution_count": 17,
   "metadata": {},
   "outputs": [],
   "source": [
    "data_names = [\"telco\", \"amazon_access\", \"kicks\", \"taxi\", \"ames\", \"churn\", \"adult\", \"dresses_sales\", \"phishing_websites\"]"
   ]
  },
  {
   "cell_type": "code",
   "execution_count": 24,
   "metadata": {},
   "outputs": [
    {
     "data": {
      "image/png": "[encoded data removed]",
      "text/plain": [
       "<Figure size 1440x432 with 3 Axes>"
      ]
     },
     "metadata": {
      "needs_background": "light"
     },
     "output_type": "display_data"
    }
   ],
   "source": [
    "fig = plot_all_metrics(\"telco\")"
   ]
  },
  {
   "cell_type": "code",
   "execution_count": 18,
   "metadata": {},
   "outputs": [
    {
     "data": {
      "image/png": "[encoded data removed]",
      "text/plain": [
       "<Figure size 1440x432 with 3 Axes>"
      ]
     },
     "metadata": {
      "needs_background": "light"
     },
     "output_type": "display_data"
    },
    {
     "data": {
      "image/png": "[encoded data removed]",
      "text/plain": [
       "<Figure size 1440x432 with 3 Axes>"
      ]
     },
     "metadata": {
      "needs_background": "light"
     },
     "output_type": "display_data"
    },
    {
     "data": {
      "image/png": "[encoded data removed]",
      "text/plain": [
       "<Figure size 1440x432 with 3 Axes>"
      ]
     },
     "metadata": {
      "needs_background": "light"
     },
     "output_type": "display_data"
    },
    {
     "data": {
      "image/png": "[encoded data removed]",
      "text/plain": [
       "<Figure size 1440x432 with 3 Axes>"
      ]
     },
     "metadata": {
      "needs_background": "light"
     },
     "output_type": "display_data"
    },
    {
     "data": {
      "image/png": "[encoded data removed]",
      "text/plain": [
       "<Figure size 1440x432 with 3 Axes>"
      ]
     },
     "metadata": {
      "needs_background": "light"
     },
     "output_type": "display_data"
    },
    {
     "data": {
      "image/png": "[encoded data removed]",
      "text/plain": [
       "<Figure size 1440x432 with 3 Axes>"
      ]
     },
     "metadata": {
      "needs_background": "light"
     },
     "output_type": "display_data"
    },
    {
     "data": {
      "image/png": "[encoded data removed]",
      "text/plain": [
       "<Figure size 1440x432 with 3 Axes>"
      ]
     },
     "metadata": {
      "needs_background": "light"
     },
     "output_type": "display_data"
    },
    {
     "data": {
      "image/png": "[encoded data removed]",
      "text/plain": [
       "<Figure size 1440x432 with 3 Axes>"
      ]
     },
     "metadata": {
      "needs_background": "light"
     },
     "output_type": "display_data"
    },
    {
     "data": {
      "image/png": "[encoded data removed]",
      "text/plain": [
       "<Figure size 1440x432 with 3 Axes>"
      ]
     },
     "metadata": {
      "needs_background": "light"
     },
     "output_type": "display_data"
    }
   ],
   "source": [
    "for dataset in data_names:\n",
    "    plot_all_metrics(dataset)\n",
    "#     plt.savefig(f\"figures/{dataset}.png\")"
   ]
  },
  {
   "cell_type": "code",
   "execution_count": 9,
   "metadata": {},
   "outputs": [],
   "source": [
    "md_names = [f\"![{dataset}](figures/{dataset}.png)\" for dataset in data_names]"
   ]
  },
  {
   "cell_type": "code",
   "execution_count": 10,
   "metadata": {},
   "outputs": [
    {
     "name": "stdout",
     "output_type": "stream",
     "text": [
      "![telco](figures/telco.png)\n",
      "![amazon_access](figures/amazon_access.png)\n",
      "![kicks](figures/kicks.png)\n",
      "![taxi](figures/taxi.png)\n",
      "![ames](figures/ames.png)\n",
      "![churn](figures/churn.png)\n",
      "![adult](figures/adult.png)\n",
      "![dresses_sales](figures/dresses_sales.png)\n",
      "![phishing_websites](figures/phishing_websites.png)\n"
     ]
    }
   ],
   "source": [
    "print(\"\\n\".join(md_names))"
   ]
  },
  {
   "cell_type": "markdown",
   "metadata": {},
   "source": [
    "## Get metadata for datasets"
   ]
  },
  {
   "cell_type": "code",
   "execution_count": 11,
   "metadata": {},
   "outputs": [],
   "source": [
    "from bench_utils import fetch_openml_and_clean\n",
    "from benchmark import DATA_INFOS"
   ]
  },
  {
   "cell_type": "code",
   "execution_count": 12,
   "metadata": {},
   "outputs": [],
   "source": [
    "data_info = DATA_INFOS['kicks']"
   ]
  },
  {
   "cell_type": "code",
   "execution_count": 13,
   "metadata": {},
   "outputs": [],
   "source": [
    "def get_metadata(data_info):\n",
    "    X, y = fetch_openml_and_clean(data_info)\n",
    "    data_info.is_classification\n",
    "    n_cats = X.select_dtypes(include=['object', 'category']).shape[1]\n",
    "    n_samples, n_features = X.shape\n",
    "    \n",
    "    return {'dataset_name': data_info.data_name,\n",
    "            'categorical feaatures': n_cats,\n",
    "            'n_features': n_features,\n",
    "            'n_samples': n_samples,\n",
    "            'is_classification': data_info.is_classification,\n",
    "            'openml_url': f'https://www.openml.org/d/{data_info.data_id}'}"
   ]
  },
  {
   "cell_type": "code",
   "execution_count": 30,
   "metadata": {},
   "outputs": [
    {
     "data": {
      "text/plain": [
       "Index(['fit_time_mean', 'fit_time_std', 'score_time_mean', 'score_time_std',\n",
       "       'test_accuracy_mean', 'test_accuracy_std', 'test_roc_auc_mean',\n",
       "       'test_roc_auc_std', 'test_average_precision_mean',\n",
       "       'test_average_precision_std', 'encoder', 'data_id', 'data_name', 'cv',\n",
       "       'is_classification', 'n_samples', 'n_features', 'categorical features',\n",
       "       'openml_url', 'test_r2_mean', 'test_r2_std',\n",
       "       'test_neg_mean_squared_error_mean', 'test_neg_mean_squared_error_std',\n",
       "       'test_neg_median_absolute_error_mean',\n",
       "       'test_neg_median_absolute_error_std'],\n",
       "      dtype='object')"
      ]
     },
     "execution_count": 30,
     "metadata": {},
     "output_type": "execute_result"
    }
   ],
   "source": [
    "results_df.columns"
   ]
  },
  {
   "cell_type": "code",
   "execution_count": 36,
   "metadata": {},
   "outputs": [],
   "source": [
    "MD_DATASET_COLUMNS = [\"data_name\", \"categorical features\", \"n_features\", \"n_samples\", \"is_classification\", \"openml_url\"]"
   ]
  },
  {
   "cell_type": "code",
   "execution_count": 43,
   "metadata": {},
   "outputs": [],
   "source": [
    "md_dataset_meta = results_df.drop_duplicates(\"data_name\")[columns_of_interest].set_index(\"data_name\").loc[data_names].reset_index()"
   ]
  },
  {
   "cell_type": "code",
   "execution_count": 51,
   "metadata": {},
   "outputs": [
    {
     "data": {
      "text/plain": [
       "'| data_name         |   categorical features |   n_features |   n_samples | is_classification   | openml_url                     |\\n|:------------------|-----------------------:|-------------:|------------:|:--------------------|:-------------------------------|\\n| telco             |                     16 |           19 |        7043 | True                | https://www.openml.org/d/42178 |\\n| amazon_access     |                      9 |            9 |       32769 | True                | https://www.openml.org/d/4135  |\\n| kicks             |                     18 |           32 |       72983 | True                | https://www.openml.org/d/41162 |\\n| taxi              |                      9 |           18 |      581835 | False               | https://www.openml.org/d/42729 |\\n| ames              |                     43 |           79 |        1460 | False               | https://www.openml.org/d/42165 |\\n| churn             |                      4 |           20 |        5000 | True                | https://www.openml.org/d/40701 |\\n| adult             |                     12 |           14 |       48842 | True                | https://www.openml.org/d/179   |\\n| dresses_sales     |                     11 |           12 |         500 | True                | https://www.openml.org/d/23381 |\\n| phishing_websites |                     30 |           30 |       11055 | True                | https://www.openml.org/d/4534  |'"
      ]
     },
     "execution_count": 51,
     "metadata": {},
     "output_type": "execute_result"
    }
   ],
   "source": [
    "md_dataset_meta.to_markdown(index=False)"
   ]
  },
  {
   "cell_type": "code",
   "execution_count": 28,
   "metadata": {},
   "outputs": [
    {
     "data": {
      "text/plain": [
       "['telco',\n",
       " 'amazon_access',\n",
       " 'kicks',\n",
       " 'taxi',\n",
       " 'ames',\n",
       " 'churn',\n",
       " 'adult',\n",
       " 'dresses_sales',\n",
       " 'phishing_websites']"
      ]
     },
     "execution_count": 28,
     "metadata": {},
     "output_type": "execute_result"
    }
   ],
   "source": [
    "data_names"
   ]
  },
  {
   "cell_type": "code",
   "execution_count": 14,
   "metadata": {},
   "outputs": [
    {
     "name": "stdout",
     "output_type": "stream",
     "text": [
      "fetching and loading kicks dataset from openml\n",
      "fetching and loading amazon_access dataset from openml\n",
      "fetching and loading telco dataset from openml\n",
      "fetching and loading adult dataset from openml\n",
      "fetching and loading ames dataset from openml\n",
      "fetching and loading taxi dataset from openml\n",
      "fetching and loading churn dataset from openml\n",
      "fetching and loading dresses_sales dataset from openml\n",
      "fetching and loading phishing_websites dataset from openml\n"
     ]
    }
   ],
   "source": [
    "all_metadata = [get_metadata(data_info) for data_info in DATA_INFOS.values()]"
   ]
  },
  {
   "cell_type": "code",
   "execution_count": 17,
   "metadata": {},
   "outputs": [],
   "source": [
    "import pandas as pd\n",
    "metadata_df = pd.DataFrame.from_records(all_metadata)"
   ]
  },
  {
   "cell_type": "code",
   "execution_count": 1,
   "metadata": {},
   "outputs": [],
   "source": [
    "from pathlib import Path"
   ]
  },
  {
   "cell_type": "code",
   "execution_count": null,
   "metadata": {},
   "outputs": [],
   "source": [
    "class BenchmarkResults:\n",
    "    def __init__(self, results_dir):\n",
    "        self.results = {\n",
    "            result_file.with_suffix(\"\").name: result_file\n",
    "            for result_file = results_dir.glob(\"*.csv\")\n",
    "        }\n",
    "        \n",
    "    def write_results(self, name):\n",
    "        self.results_df.to_csv(\"\")"
   ]
  },
  {
   "cell_type": "code",
   "execution_count": 15,
   "metadata": {},
   "outputs": [],
   "source": [
    "results_path = Path(\"results\").glob(\"*csv\")"
   ]
  },
  {
   "cell_type": "code",
   "execution_count": 16,
   "metadata": {},
   "outputs": [],
   "source": [
    "hhe = list(results_path)[0]"
   ]
  },
  {
   "cell_type": "code",
   "execution_count": 19,
   "metadata": {},
   "outputs": [],
   "source": [
    "import pandas as pd\n",
    "df = pd.read_csv(hhe)"
   ]
  },
  {
   "cell_type": "code",
   "execution_count": 22,
   "metadata": {},
   "outputs": [
    {
     "data": {
      "text/plain": [
       "['drop',\n",
       " 'SKOrdinalEncoder',\n",
       " 'SKTargetEncoder',\n",
       " 'SKTargetEncoderCV',\n",
       " 'SKTargetEncoderBS',\n",
       " 'JamesSteinEncoder',\n",
       " 'JamesSteinEncoderCV']"
      ]
     },
     "execution_count": 22,
     "metadata": {},
     "output_type": "execute_result"
    }
   ],
   "source": [
    "df['encoder'].tolist()"
   ]
  },
  {
   "cell_type": "code",
   "execution_count": null,
   "metadata": {},
   "outputs": [],
   "source": []
  },
  {
   "cell_type": "code",
   "execution_count": 1,
   "metadata": {},
   "outputs": [],
   "source": [
    "from bench_utils import load_data\n",
    "from benchmark import DATA_INFOS"
   ]
  },
  {
   "cell_type": "code",
   "execution_count": null,
   "metadata": {},
   "outputs": [
    {
     "name": "stdout",
     "output_type": "stream",
     "text": [
      "fetching and loading Allstate_Claims_Severity dataset from openml\n"
     ]
    }
   ],
   "source": [
    "meta = load_data(DATA_INFOS[\"Allstate_Claims_Severity\"])"
   ]
  },
  {
   "cell_type": "code",
   "execution_count": null,
   "metadata": {},
   "outputs": [],
   "source": [
    "meta"
   ]
  },
  {
   "cell_type": "code",
   "execution_count": 63,
   "metadata": {},
   "outputs": [],
   "source": [
    "import openml"
   ]
  },
  {
   "cell_type": "code",
   "execution_count": 64,
   "metadata": {},
   "outputs": [
    {
     "data": {
      "text/plain": [
       "Index(['did', 'name', 'version', 'uploader', 'status', 'format',\n",
       "       'MajorityClassSize', 'MaxNominalAttDistinctValues', 'MinorityClassSize',\n",
       "       'NumberOfClasses', 'NumberOfFeatures', 'NumberOfInstances',\n",
       "       'NumberOfInstancesWithMissingValues', 'NumberOfMissingValues',\n",
       "       'NumberOfNumericFeatures', 'NumberOfSymbolicFeatures'],\n",
       "      dtype='object')"
      ]
     },
     "execution_count": 64,
     "metadata": {},
     "output_type": "execute_result"
    }
   ],
   "source": [
    "datasets_df = openml.datasets.list_datasets(output_format=\"dataframe\")\n",
    "datasets_df.columns"
   ]
  },
  {
   "cell_type": "code",
   "execution_count": 88,
   "metadata": {},
   "outputs": [],
   "source": [
    "with_cats_mask = datasets_df['NumberOfSymbolicFeatures'] >= 4.0\n",
    "binary_or_regression = (datasets_df[\"NumberOfClasses\"] == 0.0) | (datasets_df[\"NumberOfClasses\"] == 2.0)\n",
    "mid_level_features = (datasets_df[\"NumberOfFeatures\"] <= 2000) & (datasets_df[\"NumberOfFeatures\"] > 20)\n",
    "mid_samples = datasets_df[\"NumberOfInstances\"] >= 10000\n",
    "dataset_with_cats = datasets_df[with_cats_mask & binary_or_regression & mid_level_features & mid_samples]"
   ]
  },
  {
   "cell_type": "code",
   "execution_count": 89,
   "metadata": {},
   "outputs": [
    {
     "data": {
      "text/html": [
       "<div>\n",
       "<style scoped>\n",
       "    .dataframe tbody tr th:only-of-type {\n",
       "        vertical-align: middle;\n",
       "    }\n",
       "\n",
       "    .dataframe tbody tr th {\n",
       "        vertical-align: top;\n",
       "    }\n",
       "\n",
       "    .dataframe thead th {\n",
       "        text-align: right;\n",
       "    }\n",
       "</style>\n",
       "<table border=\"1\" class=\"dataframe\">\n",
       "  <thead>\n",
       "    <tr style=\"text-align: right;\">\n",
       "      <th></th>\n",
       "      <th>did</th>\n",
       "      <th>name</th>\n",
       "      <th>version</th>\n",
       "      <th>uploader</th>\n",
       "      <th>status</th>\n",
       "      <th>format</th>\n",
       "      <th>MajorityClassSize</th>\n",
       "      <th>MaxNominalAttDistinctValues</th>\n",
       "      <th>MinorityClassSize</th>\n",
       "      <th>NumberOfClasses</th>\n",
       "      <th>NumberOfFeatures</th>\n",
       "      <th>NumberOfInstances</th>\n",
       "      <th>NumberOfInstancesWithMissingValues</th>\n",
       "      <th>NumberOfMissingValues</th>\n",
       "      <th>NumberOfNumericFeatures</th>\n",
       "      <th>NumberOfSymbolicFeatures</th>\n",
       "    </tr>\n",
       "  </thead>\n",
       "  <tbody>\n",
       "    <tr>\n",
       "      <th>41160</th>\n",
       "      <td>41160</td>\n",
       "      <td>rl</td>\n",
       "      <td>1</td>\n",
       "      <td>1478</td>\n",
       "      <td>active</td>\n",
       "      <td>ARFF</td>\n",
       "      <td>28411.0</td>\n",
       "      <td>2580.0</td>\n",
       "      <td>2995.0</td>\n",
       "      <td>2.0</td>\n",
       "      <td>23.0</td>\n",
       "      <td>31406.0</td>\n",
       "      <td>17204.0</td>\n",
       "      <td>29756.0</td>\n",
       "      <td>8.0</td>\n",
       "      <td>15.0</td>\n",
       "    </tr>\n",
       "    <tr>\n",
       "      <th>41162</th>\n",
       "      <td>41162</td>\n",
       "      <td>kick</td>\n",
       "      <td>1</td>\n",
       "      <td>1478</td>\n",
       "      <td>active</td>\n",
       "      <td>ARFF</td>\n",
       "      <td>64007.0</td>\n",
       "      <td>1063.0</td>\n",
       "      <td>8976.0</td>\n",
       "      <td>2.0</td>\n",
       "      <td>33.0</td>\n",
       "      <td>72983.0</td>\n",
       "      <td>69709.0</td>\n",
       "      <td>149271.0</td>\n",
       "      <td>14.0</td>\n",
       "      <td>19.0</td>\n",
       "    </tr>\n",
       "    <tr>\n",
       "      <th>42072</th>\n",
       "      <td>42072</td>\n",
       "      <td>bot-iot-all-features</td>\n",
       "      <td>1</td>\n",
       "      <td>9177</td>\n",
       "      <td>active</td>\n",
       "      <td>ARFF</td>\n",
       "      <td>NaN</td>\n",
       "      <td>NaN</td>\n",
       "      <td>NaN</td>\n",
       "      <td>0.0</td>\n",
       "      <td>45.0</td>\n",
       "      <td>3668522.0</td>\n",
       "      <td>0.0</td>\n",
       "      <td>0.0</td>\n",
       "      <td>36.0</td>\n",
       "      <td>9.0</td>\n",
       "    </tr>\n",
       "    <tr>\n",
       "      <th>42160</th>\n",
       "      <td>42160</td>\n",
       "      <td>la_crimes</td>\n",
       "      <td>3</td>\n",
       "      <td>5332</td>\n",
       "      <td>active</td>\n",
       "      <td>arff</td>\n",
       "      <td>NaN</td>\n",
       "      <td>210.0</td>\n",
       "      <td>NaN</td>\n",
       "      <td>0.0</td>\n",
       "      <td>26.0</td>\n",
       "      <td>1468825.0</td>\n",
       "      <td>1468811.0</td>\n",
       "      <td>7881776.0</td>\n",
       "      <td>12.0</td>\n",
       "      <td>7.0</td>\n",
       "    </tr>\n",
       "    <tr>\n",
       "      <th>42206</th>\n",
       "      <td>42206</td>\n",
       "      <td>porto-seguro</td>\n",
       "      <td>2</td>\n",
       "      <td>1475</td>\n",
       "      <td>active</td>\n",
       "      <td>ARFF</td>\n",
       "      <td>573518.0</td>\n",
       "      <td>104.0</td>\n",
       "      <td>21694.0</td>\n",
       "      <td>2.0</td>\n",
       "      <td>38.0</td>\n",
       "      <td>595212.0</td>\n",
       "      <td>470281.0</td>\n",
       "      <td>846458.0</td>\n",
       "      <td>12.0</td>\n",
       "      <td>26.0</td>\n",
       "    </tr>\n",
       "    <tr>\n",
       "      <th>42343</th>\n",
       "      <td>42343</td>\n",
       "      <td>KDD98</td>\n",
       "      <td>3</td>\n",
       "      <td>1475</td>\n",
       "      <td>active</td>\n",
       "      <td>ARFF</td>\n",
       "      <td>72628.0</td>\n",
       "      <td>NaN</td>\n",
       "      <td>9690.0</td>\n",
       "      <td>2.0</td>\n",
       "      <td>478.0</td>\n",
       "      <td>82318.0</td>\n",
       "      <td>82318.0</td>\n",
       "      <td>2399311.0</td>\n",
       "      <td>341.0</td>\n",
       "      <td>137.0</td>\n",
       "    </tr>\n",
       "    <tr>\n",
       "      <th>42571</th>\n",
       "      <td>42571</td>\n",
       "      <td>Allstate_Claims_Severity</td>\n",
       "      <td>1</td>\n",
       "      <td>11601</td>\n",
       "      <td>active</td>\n",
       "      <td>arff</td>\n",
       "      <td>NaN</td>\n",
       "      <td>NaN</td>\n",
       "      <td>NaN</td>\n",
       "      <td>0.0</td>\n",
       "      <td>131.0</td>\n",
       "      <td>188318.0</td>\n",
       "      <td>0.0</td>\n",
       "      <td>0.0</td>\n",
       "      <td>15.0</td>\n",
       "      <td>116.0</td>\n",
       "    </tr>\n",
       "    <tr>\n",
       "      <th>42680</th>\n",
       "      <td>42680</td>\n",
       "      <td>RelevantImagesDatasetTEST</td>\n",
       "      <td>1</td>\n",
       "      <td>17002</td>\n",
       "      <td>active</td>\n",
       "      <td>ARFF</td>\n",
       "      <td>129149.0</td>\n",
       "      <td>NaN</td>\n",
       "      <td>5582.0</td>\n",
       "      <td>2.0</td>\n",
       "      <td>31.0</td>\n",
       "      <td>134731.0</td>\n",
       "      <td>0.0</td>\n",
       "      <td>0.0</td>\n",
       "      <td>27.0</td>\n",
       "      <td>4.0</td>\n",
       "    </tr>\n",
       "    <tr>\n",
       "      <th>42737</th>\n",
       "      <td>42737</td>\n",
       "      <td>fps-in-video-games</td>\n",
       "      <td>1</td>\n",
       "      <td>21049</td>\n",
       "      <td>active</td>\n",
       "      <td>ARFF</td>\n",
       "      <td>NaN</td>\n",
       "      <td>NaN</td>\n",
       "      <td>NaN</td>\n",
       "      <td>0.0</td>\n",
       "      <td>45.0</td>\n",
       "      <td>425833.0</td>\n",
       "      <td>425833.0</td>\n",
       "      <td>1299988.0</td>\n",
       "      <td>31.0</td>\n",
       "      <td>14.0</td>\n",
       "    </tr>\n",
       "    <tr>\n",
       "      <th>42742</th>\n",
       "      <td>42742</td>\n",
       "      <td>porto-seguro</td>\n",
       "      <td>3</td>\n",
       "      <td>11601</td>\n",
       "      <td>active</td>\n",
       "      <td>arff</td>\n",
       "      <td>573518.0</td>\n",
       "      <td>NaN</td>\n",
       "      <td>21694.0</td>\n",
       "      <td>2.0</td>\n",
       "      <td>58.0</td>\n",
       "      <td>595212.0</td>\n",
       "      <td>470281.0</td>\n",
       "      <td>846458.0</td>\n",
       "      <td>26.0</td>\n",
       "      <td>32.0</td>\n",
       "    </tr>\n",
       "  </tbody>\n",
       "</table>\n",
       "</div>"
      ],
      "text/plain": [
       "         did                       name  version uploader  status format  \\\n",
       "41160  41160                         rl        1     1478  active   ARFF   \n",
       "41162  41162                       kick        1     1478  active   ARFF   \n",
       "42072  42072       bot-iot-all-features        1     9177  active   ARFF   \n",
       "42160  42160                  la_crimes        3     5332  active   arff   \n",
       "42206  42206               porto-seguro        2     1475  active   ARFF   \n",
       "42343  42343                      KDD98        3     1475  active   ARFF   \n",
       "42571  42571   Allstate_Claims_Severity        1    11601  active   arff   \n",
       "42680  42680  RelevantImagesDatasetTEST        1    17002  active   ARFF   \n",
       "42737  42737         fps-in-video-games        1    21049  active   ARFF   \n",
       "42742  42742               porto-seguro        3    11601  active   arff   \n",
       "\n",
       "       MajorityClassSize  MaxNominalAttDistinctValues  MinorityClassSize  \\\n",
       "41160            28411.0                       2580.0             2995.0   \n",
       "41162            64007.0                       1063.0             8976.0   \n",
       "42072                NaN                          NaN                NaN   \n",
       "42160                NaN                        210.0                NaN   \n",
       "42206           573518.0                        104.0            21694.0   \n",
       "42343            72628.0                          NaN             9690.0   \n",
       "42571                NaN                          NaN                NaN   \n",
       "42680           129149.0                          NaN             5582.0   \n",
       "42737                NaN                          NaN                NaN   \n",
       "42742           573518.0                          NaN            21694.0   \n",
       "\n",
       "       NumberOfClasses  NumberOfFeatures  NumberOfInstances  \\\n",
       "41160              2.0              23.0            31406.0   \n",
       "41162              2.0              33.0            72983.0   \n",
       "42072              0.0              45.0          3668522.0   \n",
       "42160              0.0              26.0          1468825.0   \n",
       "42206              2.0              38.0           595212.0   \n",
       "42343              2.0             478.0            82318.0   \n",
       "42571              0.0             131.0           188318.0   \n",
       "42680              2.0              31.0           134731.0   \n",
       "42737              0.0              45.0           425833.0   \n",
       "42742              2.0              58.0           595212.0   \n",
       "\n",
       "       NumberOfInstancesWithMissingValues  NumberOfMissingValues  \\\n",
       "41160                             17204.0                29756.0   \n",
       "41162                             69709.0               149271.0   \n",
       "42072                                 0.0                    0.0   \n",
       "42160                           1468811.0              7881776.0   \n",
       "42206                            470281.0               846458.0   \n",
       "42343                             82318.0              2399311.0   \n",
       "42571                                 0.0                    0.0   \n",
       "42680                                 0.0                    0.0   \n",
       "42737                            425833.0              1299988.0   \n",
       "42742                            470281.0               846458.0   \n",
       "\n",
       "       NumberOfNumericFeatures  NumberOfSymbolicFeatures  \n",
       "41160                      8.0                      15.0  \n",
       "41162                     14.0                      19.0  \n",
       "42072                     36.0                       9.0  \n",
       "42160                     12.0                       7.0  \n",
       "42206                     12.0                      26.0  \n",
       "42343                    341.0                     137.0  \n",
       "42571                     15.0                     116.0  \n",
       "42680                     27.0                       4.0  \n",
       "42737                     31.0                      14.0  \n",
       "42742                     26.0                      32.0  "
      ]
     },
     "execution_count": 89,
     "metadata": {},
     "output_type": "execute_result"
    }
   ],
   "source": [
    "dataset_with_cats.tail(10)"
   ]
  },
  {
   "cell_type": "code",
   "execution_count": 90,
   "metadata": {},
   "outputs": [
    {
     "data": {
      "text/plain": [
       "(52, 16)"
      ]
     },
     "execution_count": 90,
     "metadata": {},
     "output_type": "execute_result"
    }
   ],
   "source": [
    "dataset_with_cats.shape"
   ]
  },
  {
   "cell_type": "code",
   "execution_count": null,
   "metadata": {},
   "outputs": [],
   "source": []
  }
 ],
 "metadata": {
  "kernelspec": {
   "display_name": "Python 3",
   "language": "python",
   "name": "python3"
  },
  "language_info": {
   "codemirror_mode": {
    "name": "ipython",
    "version": 3
   },
   "file_extension": ".py",
   "mimetype": "text/x-python",
   "name": "python",
   "nbconvert_exporter": "python",
   "pygments_lexer": "ipython3",
   "version": "3.8.6"
  }
 },
 "nbformat": 4,
 "nbformat_minor": 4
}
